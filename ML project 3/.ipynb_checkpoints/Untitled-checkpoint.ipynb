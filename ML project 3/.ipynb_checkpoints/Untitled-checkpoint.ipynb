{
 "cells": [
  {
   "cell_type": "code",
   "execution_count": 1,
   "id": "7bbfd7c9",
   "metadata": {},
   "outputs": [],
   "source": [
    "import pandas as pd\n",
    "import numpy as np"
   ]
  },
  {
   "cell_type": "code",
   "execution_count": 2,
   "id": "3e1bd850",
   "metadata": {},
   "outputs": [],
   "source": [
    "df = pd.read_csv('IPL Matches 2008-2020.csv')"
   ]
  },
  {
   "cell_type": "code",
   "execution_count": 3,
   "id": "d3cb7e4e",
   "metadata": {},
   "outputs": [
    {
     "data": {
      "text/html": [
       "<div>\n",
       "<style scoped>\n",
       "    .dataframe tbody tr th:only-of-type {\n",
       "        vertical-align: middle;\n",
       "    }\n",
       "\n",
       "    .dataframe tbody tr th {\n",
       "        vertical-align: top;\n",
       "    }\n",
       "\n",
       "    .dataframe thead th {\n",
       "        text-align: right;\n",
       "    }\n",
       "</style>\n",
       "<table border=\"1\" class=\"dataframe\">\n",
       "  <thead>\n",
       "    <tr style=\"text-align: right;\">\n",
       "      <th></th>\n",
       "      <th>team1</th>\n",
       "      <th>team2</th>\n",
       "      <th>toss_winner</th>\n",
       "      <th>toss_decision</th>\n",
       "      <th>winner</th>\n",
       "    </tr>\n",
       "  </thead>\n",
       "  <tbody>\n",
       "    <tr>\n",
       "      <th>0</th>\n",
       "      <td>Royal Challengers Bangalore</td>\n",
       "      <td>Kolkata Knight Riders</td>\n",
       "      <td>Royal Challengers Bangalore</td>\n",
       "      <td>field</td>\n",
       "      <td>Kolkata Knight Riders</td>\n",
       "    </tr>\n",
       "    <tr>\n",
       "      <th>1</th>\n",
       "      <td>Kings XI Punjab</td>\n",
       "      <td>Chennai Super Kings</td>\n",
       "      <td>Chennai Super Kings</td>\n",
       "      <td>bat</td>\n",
       "      <td>Chennai Super Kings</td>\n",
       "    </tr>\n",
       "    <tr>\n",
       "      <th>2</th>\n",
       "      <td>Delhi Daredevils</td>\n",
       "      <td>Rajasthan Royals</td>\n",
       "      <td>Rajasthan Royals</td>\n",
       "      <td>bat</td>\n",
       "      <td>Delhi Daredevils</td>\n",
       "    </tr>\n",
       "    <tr>\n",
       "      <th>3</th>\n",
       "      <td>Mumbai Indians</td>\n",
       "      <td>Royal Challengers Bangalore</td>\n",
       "      <td>Mumbai Indians</td>\n",
       "      <td>bat</td>\n",
       "      <td>Royal Challengers Bangalore</td>\n",
       "    </tr>\n",
       "    <tr>\n",
       "      <th>4</th>\n",
       "      <td>Kolkata Knight Riders</td>\n",
       "      <td>Deccan Chargers</td>\n",
       "      <td>Deccan Chargers</td>\n",
       "      <td>bat</td>\n",
       "      <td>Kolkata Knight Riders</td>\n",
       "    </tr>\n",
       "    <tr>\n",
       "      <th>...</th>\n",
       "      <td>...</td>\n",
       "      <td>...</td>\n",
       "      <td>...</td>\n",
       "      <td>...</td>\n",
       "      <td>...</td>\n",
       "    </tr>\n",
       "    <tr>\n",
       "      <th>811</th>\n",
       "      <td>Royal Challengers Bangalore</td>\n",
       "      <td>Mumbai Indians</td>\n",
       "      <td>Mumbai Indians</td>\n",
       "      <td>field</td>\n",
       "      <td>Royal Challengers Bangalore</td>\n",
       "    </tr>\n",
       "    <tr>\n",
       "      <th>812</th>\n",
       "      <td>Mumbai Indians</td>\n",
       "      <td>Delhi Capitals</td>\n",
       "      <td>Delhi Capitals</td>\n",
       "      <td>field</td>\n",
       "      <td>Mumbai Indians</td>\n",
       "    </tr>\n",
       "    <tr>\n",
       "      <th>813</th>\n",
       "      <td>Royal Challengers Bangalore</td>\n",
       "      <td>Sunrisers Hyderabad</td>\n",
       "      <td>Sunrisers Hyderabad</td>\n",
       "      <td>field</td>\n",
       "      <td>Sunrisers Hyderabad</td>\n",
       "    </tr>\n",
       "    <tr>\n",
       "      <th>814</th>\n",
       "      <td>Delhi Capitals</td>\n",
       "      <td>Sunrisers Hyderabad</td>\n",
       "      <td>Delhi Capitals</td>\n",
       "      <td>bat</td>\n",
       "      <td>Delhi Capitals</td>\n",
       "    </tr>\n",
       "    <tr>\n",
       "      <th>815</th>\n",
       "      <td>Delhi Capitals</td>\n",
       "      <td>Mumbai Indians</td>\n",
       "      <td>Delhi Capitals</td>\n",
       "      <td>bat</td>\n",
       "      <td>Mumbai Indians</td>\n",
       "    </tr>\n",
       "  </tbody>\n",
       "</table>\n",
       "<p>816 rows × 5 columns</p>\n",
       "</div>"
      ],
      "text/plain": [
       "                           team1                        team2  \\\n",
       "0    Royal Challengers Bangalore        Kolkata Knight Riders   \n",
       "1                Kings XI Punjab          Chennai Super Kings   \n",
       "2               Delhi Daredevils             Rajasthan Royals   \n",
       "3                 Mumbai Indians  Royal Challengers Bangalore   \n",
       "4          Kolkata Knight Riders              Deccan Chargers   \n",
       "..                           ...                          ...   \n",
       "811  Royal Challengers Bangalore               Mumbai Indians   \n",
       "812               Mumbai Indians               Delhi Capitals   \n",
       "813  Royal Challengers Bangalore          Sunrisers Hyderabad   \n",
       "814               Delhi Capitals          Sunrisers Hyderabad   \n",
       "815               Delhi Capitals               Mumbai Indians   \n",
       "\n",
       "                     toss_winner toss_decision                       winner  \n",
       "0    Royal Challengers Bangalore         field        Kolkata Knight Riders  \n",
       "1            Chennai Super Kings           bat          Chennai Super Kings  \n",
       "2               Rajasthan Royals           bat             Delhi Daredevils  \n",
       "3                 Mumbai Indians           bat  Royal Challengers Bangalore  \n",
       "4                Deccan Chargers           bat        Kolkata Knight Riders  \n",
       "..                           ...           ...                          ...  \n",
       "811               Mumbai Indians         field  Royal Challengers Bangalore  \n",
       "812               Delhi Capitals         field               Mumbai Indians  \n",
       "813          Sunrisers Hyderabad         field          Sunrisers Hyderabad  \n",
       "814               Delhi Capitals           bat               Delhi Capitals  \n",
       "815               Delhi Capitals           bat               Mumbai Indians  \n",
       "\n",
       "[816 rows x 5 columns]"
      ]
     },
     "execution_count": 3,
     "metadata": {},
     "output_type": "execute_result"
    }
   ],
   "source": [
    "df.drop(['id','city'],axis=1,inplace=True)\n",
    "df"
   ]
  },
  {
   "cell_type": "code",
   "execution_count": 4,
   "id": "07488e48",
   "metadata": {},
   "outputs": [
    {
     "data": {
      "text/plain": [
       "4"
      ]
     },
     "execution_count": 4,
     "metadata": {},
     "output_type": "execute_result"
    }
   ],
   "source": [
    "df['team1'] = df['team1'].replace(['Delhi Daredevils'],'Delhi Capitals')\n",
    "df['team1'] = df['team1'].replace(['Deccan Chargers'],'Sunrisers Hyderabad')\n",
    "df['team1'] = df['team1'].replace(['Gujarat Lions'],'Chennai Super Kings')\n",
    "df['team1'] = df['team1'].replace(['Rising Pune Supergiants'],'Rajasthan Royals')\n",
    "df['team1'] = df['team1'].replace(['Rising Pune Supergiant'],'Rajasthan Royals')\n",
    "\n",
    "df['team2'] = df['team2'].replace(['Delhi Daredevils'],'Delhi Capitals')\n",
    "df['team2'] = df['team2'].replace(['Deccan Chargers'],'Sunrisers Hyderabad')\n",
    "df['team2'] = df['team2'].replace(['Gujarat Lions'],'Chennai Super Kings')\n",
    "df['team2'] = df['team2'].replace(['Rising Pune Supergiants'],'Rajasthan Royals')\n",
    "df['team2'] = df['team2'].replace(['Rising Pune Supergiant'],'Rajasthan Royals')\n",
    "\n",
    "df['toss_winner'] = df['toss_winner'].replace(['Delhi Daredevils'],'Delhi Capitals')\n",
    "df['toss_winner'] = df['toss_winner'].replace(['Deccan Chargers'],'Sunrisers Hyderabad')\n",
    "df['toss_winner'] = df['toss_winner'].replace(['Gujarat Lions'],'Chennai Super Kings')\n",
    "df['toss_winner'] = df['toss_winner'].replace(['Rising Pune Supergiants'],'Rajasthan Royals')\n",
    "df['toss_winner'] = df['toss_winner'].replace(['Rising Pune Supergiant'],'Rajasthan Royals')\n",
    "\n",
    "df['winner'] = df['winner'].replace(['Delhi Daredevils'],'Delhi Capitals')\n",
    "df['winner'] = df['winner'].replace(['Deccan Chargers'],'Sunrisers Hyderabad')\n",
    "df['winner'] = df['winner'].replace(['Gujarat Lions'],'Chennai Super Kings')\n",
    "df['winner'] = df['winner'].replace(['Rising Pune Supergiants'],'Rajasthan Royals')\n",
    "df['winner'] = df['winner'].replace(['Rising Pune Supergiant'],'Rajasthan Royals')\n",
    "\n",
    "df['winner'].isnull().sum()"
   ]
  },
  {
   "cell_type": "code",
   "execution_count": 5,
   "id": "4f5b3709",
   "metadata": {},
   "outputs": [
    {
     "data": {
      "text/plain": [
       "array(['Kolkata Knight Riders', 'Chennai Super Kings', 'Delhi Capitals',\n",
       "       'Royal Challengers Bangalore', 'Rajasthan Royals',\n",
       "       'Kings XI Punjab', 'Sunrisers Hyderabad', 'Mumbai Indians',\n",
       "       'Pune Warriors', 'Kochi Tuskers Kerala', nan], dtype=object)"
      ]
     },
     "execution_count": 5,
     "metadata": {},
     "output_type": "execute_result"
    }
   ],
   "source": [
    "df['winner'].dropna(axis=0,inplace=True)\n",
    "df['winner'].unique()"
   ]
  },
  {
   "cell_type": "code",
   "execution_count": 6,
   "id": "e147f51a",
   "metadata": {},
   "outputs": [],
   "source": [
    "from sklearn.preprocessing import LabelEncoder\n",
    "team1 = LabelEncoder()\n",
    "team2 = LabelEncoder()\n",
    "toss_winner = LabelEncoder()\n",
    "toss_decision = LabelEncoder()\n",
    "winner = LabelEncoder()\n",
    "df['team1']=team1.fit_transform(df['team1'])\n",
    "df['team2']=team2.fit_transform(df['team2'])\n",
    "df['toss_winner']=toss_winner.fit_transform(df['toss_winner'])\n",
    "df['toss_decision']=toss_decision.fit_transform(df['toss_decision'])\n",
    "df['winner']=winner.fit_transform(df['winner'])"
   ]
  },
  {
   "cell_type": "code",
   "execution_count": 7,
   "id": "7f382f10",
   "metadata": {},
   "outputs": [
    {
     "data": {
      "text/plain": [
       "0      4\n",
       "1      0\n",
       "2      1\n",
       "3      8\n",
       "4      4\n",
       "      ..\n",
       "811    8\n",
       "812    5\n",
       "813    9\n",
       "814    1\n",
       "815    5\n",
       "Name: winner, Length: 816, dtype: int32"
      ]
     },
     "execution_count": 7,
     "metadata": {},
     "output_type": "execute_result"
    }
   ],
   "source": [
    "y=df.drop('winner',axis=1)\n",
    "X=df['winner']\n",
    "X"
   ]
  },
  {
   "cell_type": "code",
   "execution_count": 8,
   "id": "b6ce207f",
   "metadata": {},
   "outputs": [],
   "source": [
    "df['winner'].unique()\n",
    "X=df.drop('winner',axis=1)\n",
    "y = df['winner']\n"
   ]
  },
  {
   "cell_type": "code",
   "execution_count": 9,
   "id": "5560817e",
   "metadata": {},
   "outputs": [],
   "source": [
    "from sklearn.model_selection import train_test_split\n",
    "X_train,X_test,Y_train,Y_test = train_test_split(X,y,test_size=0.2)"
   ]
  },
  {
   "cell_type": "code",
   "execution_count": 10,
   "id": "1c0d9afc",
   "metadata": {},
   "outputs": [],
   "source": [
    "from sklearn.linear_model import LogisticRegression\n"
   ]
  },
  {
   "cell_type": "code",
   "execution_count": 11,
   "id": "597508d4",
   "metadata": {},
   "outputs": [
    {
     "name": "stderr",
     "output_type": "stream",
     "text": [
      "c:\\users\\fujitsu\\appdata\\local\\programs\\python\\python38\\lib\\site-packages\\sklearn\\linear_model\\_logistic.py:763: ConvergenceWarning: lbfgs failed to converge (status=1):\n",
      "STOP: TOTAL NO. of ITERATIONS REACHED LIMIT.\n",
      "\n",
      "Increase the number of iterations (max_iter) or scale the data as shown in:\n",
      "    https://scikit-learn.org/stable/modules/preprocessing.html\n",
      "Please also refer to the documentation for alternative solver options:\n",
      "    https://scikit-learn.org/stable/modules/linear_model.html#logistic-regression\n",
      "  n_iter_i = _check_optimize_result(\n"
     ]
    },
    {
     "data": {
      "text/plain": [
       "LogisticRegression()"
      ]
     },
     "execution_count": 11,
     "metadata": {},
     "output_type": "execute_result"
    }
   ],
   "source": [
    "model = LogisticRegression()\n",
    "model.fit(X_train, Y_train)"
   ]
  },
  {
   "cell_type": "code",
   "execution_count": 12,
   "id": "e3b06c8f",
   "metadata": {},
   "outputs": [
    {
     "data": {
      "text/plain": [
       "0.1951219512195122"
      ]
     },
     "execution_count": 12,
     "metadata": {},
     "output_type": "execute_result"
    }
   ],
   "source": [
    "model.score(X_test,Y_test)"
   ]
  }
 ],
 "metadata": {
  "kernelspec": {
   "display_name": "Python 3",
   "language": "python",
   "name": "python3"
  },
  "language_info": {
   "codemirror_mode": {
    "name": "ipython",
    "version": 3
   },
   "file_extension": ".py",
   "mimetype": "text/x-python",
   "name": "python",
   "nbconvert_exporter": "python",
   "pygments_lexer": "ipython3",
   "version": "3.8.4"
  }
 },
 "nbformat": 4,
 "nbformat_minor": 5
}
