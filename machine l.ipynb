{
 "cells": [
  {
   "cell_type": "code",
   "execution_count": 1,
   "id": "04995ef2",
   "metadata": {},
   "outputs": [],
   "source": [
    "# import pandas as pd\n",
    "# from sklearn.tree import DecisionTreeClassifier\n",
    "# from sklearn.model_selection import train_test_split\n",
    "# from sklearn.metrics import accuracy_score\n",
    "# music_data=pd.read_csv(\"music.csv\")\n",
    "# X=music_data.drop(columns=['genre'])\n",
    "# y=music_data['genre']\n",
    "# X_train,X_test,y_train,y_test=train_test_split(X,y,test_size=0.8)\n",
    "# model=DecisionTreeClassifier()\n",
    "# model.fit(X_train,y_train)\n",
    "# predictions=model.predict(X_test)\n",
    "# score=accuracy_score(y_test, predictions)\n",
    "# score"
   ]
  },
  {
   "cell_type": "code",
   "execution_count": 2,
   "id": "036dc34b",
   "metadata": {},
   "outputs": [
    {
     "ename": "NameError",
     "evalue": "name 'model' is not defined",
     "output_type": "error",
     "traceback": [
      "\u001b[1;31m---------------------------------------------------------------------------\u001b[0m",
      "\u001b[1;31mNameError\u001b[0m                                 Traceback (most recent call last)",
      "\u001b[1;32m<ipython-input-2-bcb3e0af8c3f>\u001b[0m in \u001b[0;36m<module>\u001b[1;34m\u001b[0m\n\u001b[0;32m     13\u001b[0m \u001b[0mjoblib\u001b[0m\u001b[1;33m.\u001b[0m\u001b[0mload\u001b[0m\u001b[1;33m(\u001b[0m\u001b[1;34m'music-recommend.joblib'\u001b[0m\u001b[1;33m)\u001b[0m\u001b[1;33m\u001b[0m\u001b[1;33m\u001b[0m\u001b[0m\n\u001b[0;32m     14\u001b[0m \u001b[1;33m\u001b[0m\u001b[0m\n\u001b[1;32m---> 15\u001b[1;33m \u001b[0mpredictions\u001b[0m\u001b[1;33m=\u001b[0m\u001b[0mmodel\u001b[0m\u001b[1;33m.\u001b[0m\u001b[0mpredict\u001b[0m\u001b[1;33m(\u001b[0m\u001b[1;33m[\u001b[0m\u001b[1;33m[\u001b[0m\u001b[1;36m21\u001b[0m\u001b[1;33m,\u001b[0m\u001b[1;36m1\u001b[0m\u001b[1;33m]\u001b[0m\u001b[1;33m,\u001b[0m\u001b[1;33m[\u001b[0m\u001b[1;36m22\u001b[0m\u001b[1;33m,\u001b[0m\u001b[1;36m0\u001b[0m\u001b[1;33m]\u001b[0m\u001b[1;33m]\u001b[0m\u001b[1;33m)\u001b[0m\u001b[1;33m\u001b[0m\u001b[1;33m\u001b[0m\u001b[0m\n\u001b[0m\u001b[0;32m     16\u001b[0m \u001b[0mpredictions\u001b[0m\u001b[1;33m\u001b[0m\u001b[1;33m\u001b[0m\u001b[0m\n",
      "\u001b[1;31mNameError\u001b[0m: name 'model' is not defined"
     ]
    }
   ],
   "source": [
    "import pandas as pd\n",
    "from sklearn.tree import DecisionTreeClassifier\n",
    "import joblib \n",
    "\n",
    "\n",
    "# music_data=pd.read_csv(\"music.csv\")\n",
    "# X=music_data.drop(columns=['genre'])\n",
    "# y=music_data['genre']\n",
    "\n",
    "# model = DecisionTreeClassifier()\n",
    "# model.fit(X,y)\n",
    "# joblib.dump(model, 'music-recommend.joblib')\n",
    "joblib.load('music-recommend.joblib')\n",
    "\n",
    "predictions=model.predict([[21,1],[22,0]])\n",
    "predictions\n"
   ]
  },
  {
   "cell_type": "code",
   "execution_count": null,
   "id": "46263a32",
   "metadata": {},
   "outputs": [],
   "source": [
    "import pandas as pd\n",
    "from sklearn.tree import DecisionTreeClassifier\n",
    "from sklearn import tree\n",
    "\n",
    "music_data=pd.read_csv(\"music.csv\")\n",
    "X=music_data.drop(columns=['genre'])\n",
    "y=music_data['genre']\n",
    "\n",
    "model=DecisionTreeClassifier()\n",
    "model.fit(X,y)\n",
    "\n",
    "tree.export_graphviz(model, out_file=' music-recommender.dot', feature_names=['age', 'gender'], class_names=sorted(y.unique()),\n",
    "                    label='all',rounded=True,filled=True)"
   ]
  },
  {
   "cell_type": "code",
   "execution_count": null,
   "id": "0ae9bb43",
   "metadata": {},
   "outputs": [],
   "source": []
  }
 ],
 "metadata": {
  "kernelspec": {
   "display_name": "Python 3",
   "language": "python",
   "name": "python3"
  },
  "language_info": {
   "codemirror_mode": {
    "name": "ipython",
    "version": 3
   },
   "file_extension": ".py",
   "mimetype": "text/x-python",
   "name": "python",
   "nbconvert_exporter": "python",
   "pygments_lexer": "ipython3",
   "version": "3.8.4"
  }
 },
 "nbformat": 4,
 "nbformat_minor": 5
}
